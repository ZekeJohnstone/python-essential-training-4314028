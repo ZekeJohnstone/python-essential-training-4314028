{
 "cells": [
  {
   "cell_type": "code",
   "execution_count": 1,
   "id": "48a15793",
   "metadata": {
    "scrolled": true
   },
   "outputs": [],
   "source": [
    "import threading\n",
    "import time"
   ]
  },
  {
   "cell_type": "markdown",
   "id": "5be113b0",
   "metadata": {},
   "source": [
    "## Threads"
   ]
  },
  {
   "cell_type": "code",
   "execution_count": 2,
   "id": "230c796a",
   "metadata": {
    "scrolled": true
   },
   "outputs": [
    {
     "data": {
      "text/plain": [
       "[0, 1, 4, 9, 16]"
      ]
     },
     "execution_count": 2,
     "metadata": {},
     "output_type": "execute_result"
    }
   ],
   "source": [
    "def longSquare(num):\n",
    "    time.sleep(1)\n",
    "    return num**2\n",
    "\n",
    "[longSquare(n) for n in range(0, 5)]\n"
   ]
  },
  {
   "cell_type": "code",
   "execution_count": 3,
   "id": "f105891d",
   "metadata": {},
   "outputs": [],
   "source": [
    "t1 = threading.Thread(target=longSquare, args=(1,))\n",
    "t2 = threading.Thread(target=longSquare, args=(2,))\n",
    "\n",
    "t1.start()\n",
    "t2.start()\n",
    "\n",
    "t1.join()\n",
    "t2.join()\n"
   ]
  },
  {
   "cell_type": "code",
   "execution_count": 4,
   "id": "5be33021",
   "metadata": {},
   "outputs": [
    {
     "name": "stdout",
     "output_type": "stream",
     "text": [
      "{1: 1, 2: 4}\n"
     ]
    }
   ],
   "source": [
    "\n",
    "\n",
    "def longSquare(num, results):\n",
    "    time.sleep(1)\n",
    "    results[num] = num**2\n",
    "\n",
    "results = {}\n",
    "t1 = threading.Thread(target=longSquare, args=(1,results))\n",
    "t2 = threading.Thread(target=longSquare, args=(2,results))\n",
    "\n",
    "t1.start()\n",
    "t2.start()\n",
    "\n",
    "t1.join()\n",
    "t2.join()\n",
    "\n",
    "print(results)\n"
   ]
  },
  {
   "cell_type": "code",
   "execution_count": 5,
   "id": "6f9a6201",
   "metadata": {},
   "outputs": [
    {
     "name": "stdout",
     "output_type": "stream",
     "text": [
      "{1: 1, 2: 4, 0: 0, 3: 9, 6: 36, 5: 25, 4: 16, 8: 64, 7: 49, 10: 100, 11: 121, 9: 81, 14: 196, 12: 144, 13: 169, 16: 256, 15: 225, 17: 289, 21: 441, 18: 324, 20: 400, 19: 361, 23: 529, 22: 484, 24: 576, 30: 900, 26: 676, 25: 625, 29: 841, 28: 784, 27: 729, 31: 961, 32: 1024, 34: 1156, 33: 1089, 36: 1296, 35: 1225, 39: 1521, 38: 1444, 37: 1369, 42: 1764, 44: 1936, 43: 1849, 41: 1681, 40: 1600, 45: 2025, 47: 2209, 46: 2116, 48: 2304, 50: 2500, 51: 2601, 52: 2704, 49: 2401, 56: 3136, 54: 2916, 53: 2809, 55: 3025, 59: 3481, 58: 3364, 60: 3600, 57: 3249, 61: 3721, 64: 4096, 63: 3969, 62: 3844, 69: 4761, 67: 4489, 66: 4356, 68: 4624, 65: 4225, 72: 5184, 70: 4900, 71: 5041, 73: 5329, 76: 5776, 74: 5476, 75: 5625, 79: 6241, 80: 6400, 78: 6084, 77: 5929, 81: 6561, 87: 7569, 86: 7396, 89: 7921, 82: 6724, 85: 7225, 88: 7744, 90: 8100, 83: 6889, 84: 7056, 96: 9216, 97: 9409, 94: 8836, 99: 9801, 95: 9025, 93: 8649, 91: 8281, 98: 9604, 92: 8464}\n"
     ]
    }
   ],
   "source": [
    "\n",
    "\n",
    "def longSquare(num, results):\n",
    "    time.sleep(1)\n",
    "    results[num] = num**2\n",
    "\n",
    "results = {}\n",
    "threads = [threading.Thread(target=longSquare, args=(n, results)) for n in range(0, 100)]\n",
    "[t.start() for t in threads]\n",
    "[t.join() for t in threads]\n",
    "print(results)\n"
   ]
  },
  {
   "cell_type": "code",
   "execution_count": null,
   "id": "c63a0969",
   "metadata": {},
   "outputs": [],
   "source": []
  }
 ],
 "metadata": {
  "kernelspec": {
   "display_name": "Python 3 (ipykernel)",
   "language": "python",
   "name": "python3"
  },
  "language_info": {
   "codemirror_mode": {
    "name": "ipython",
    "version": 3
   },
   "file_extension": ".py",
   "mimetype": "text/x-python",
   "name": "python",
   "nbconvert_exporter": "python",
   "pygments_lexer": "ipython3",
   "version": "3.12.2"
  }
 },
 "nbformat": 4,
 "nbformat_minor": 5
}
