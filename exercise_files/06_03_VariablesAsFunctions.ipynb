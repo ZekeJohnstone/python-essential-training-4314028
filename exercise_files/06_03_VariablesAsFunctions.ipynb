{
 "cells": [
  {
   "cell_type": "markdown",
   "id": "b693252d",
   "metadata": {},
   "source": [
    "## Variables as Functions"
   ]
  },
  {
   "cell_type": "code",
   "execution_count": 27,
   "id": "cb49359a",
   "metadata": {},
   "outputs": [],
   "source": [
    "def fn_square(x):\n",
    "    if isinstance(x,int):\n",
    "        sq = f'the square of {x} is {x * x}'\n",
    "    else:\n",
    "        sq = f'{x} is not a number! Please try again with a number'\n",
    "    return sq"
   ]
  },
  {
   "cell_type": "code",
   "execution_count": 24,
   "id": "850c34dc",
   "metadata": {},
   "outputs": [
    {
     "data": {
      "text/plain": [
       "'the square of 5 is 25'"
      ]
     },
     "execution_count": 24,
     "metadata": {},
     "output_type": "execute_result"
    }
   ],
   "source": [
    "fn_square(5)"
   ]
  },
  {
   "cell_type": "markdown",
   "id": "4065cfed",
   "metadata": {},
   "source": [
    "### Viewing function data with  \\_\\_code\\_\\_"
   ]
  },
  {
   "cell_type": "code",
   "execution_count": 25,
   "id": "64b94543",
   "metadata": {},
   "outputs": [
    {
     "name": "stdout",
     "output_type": "stream",
     "text": [
      "('x', 'sq')\n",
      "b'\\x97\\x00t\\x01\\x00\\x00\\x00\\x00\\x00\\x00\\x00\\x00|\\x00t\\x02\\x00\\x00\\x00\\x00\\x00\\x00\\x00\\x00\\xab\\x02\\x00\\x00\\x00\\x00\\x00\\x00r\\rd\\x01|\\x00\\x9b\\x00d\\x02|\\x00|\\x00z\\x05\\x00\\x00\\x9b\\x00\\x9d\\x04}\\x01|\\x01S\\x00|\\x00\\x9b\\x00d\\x03\\x9d\\x02}\\x01|\\x01S\\x00'\n",
      "3\n",
      "(None, 'the square of ', ' is ', ' is not a number. Please try again with a number')\n"
     ]
    }
   ],
   "source": [
    "print(fn_square.__code__.co_varnames)\n",
    "print(fn_square.__code__.co_code)\n",
    "print(fn_square.__code__.co_flags)\n",
    "print(fn_square.__code__.co_consts)"
   ]
  },
  {
   "cell_type": "code",
   "execution_count": 28,
   "id": "ce10a3a0",
   "metadata": {},
   "outputs": [
    {
     "data": {
      "text/plain": [
       "'WTF is not a number! Please try again with a number'"
      ]
     },
     "execution_count": 28,
     "metadata": {},
     "output_type": "execute_result"
    }
   ],
   "source": [
    "fn_square('WTF')"
   ]
  },
  {
   "cell_type": "markdown",
   "id": "5eb0b9e0",
   "metadata": {},
   "source": [
    "### Text processing in Python"
   ]
  },
  {
   "cell_type": "code",
   "execution_count": 38,
   "id": "97284f20",
   "metadata": {},
   "outputs": [],
   "source": [
    "text = '''\n",
    "Beautiful is better than ugly.\n",
    "Explicit is better than implicit.\n",
    "Simple is better than complex.\n",
    "Complex is better than complicated.\n",
    "Flat is better than nested.\n",
    "Sparse is better than dense.\n",
    "Readability counts.\n",
    "Special cases aren't special enough to break the rules.\n",
    "Although practicality beats purity.\n",
    "Errors should never pass silently.\n",
    "Unless explicitly silenced.\n",
    "In the face of ambiguity, refuse the temptation to guess.\n",
    "There should be one-- and preferably only one --obvious way to do it.\n",
    "Although that way may not be obvious at first unless you're Dutch.\n",
    "Now is better than never.\n",
    "Although never is often better than *right* now.\n",
    "If the implementation is hard to explain, it's a bad idea.\n",
    "If the implementation is easy to explain, it may be a good idea.\n",
    "Namespaces are one honking great idea -- let's do more of those!\n",
    "'''\n"
   ]
  },
  {
   "cell_type": "code",
   "execution_count": 39,
   "id": "bd899058",
   "metadata": {},
   "outputs": [],
   "source": [
    "def lowercase(text):\n",
    "    return text.lower()\n",
    "\n",
    "def removePunctuation(text):\n",
    "    punctuations = ['.', '-', ',', '*']\n",
    "    for punctuation in punctuations:\n",
    "        text = text.replace(punctuation, '')\n",
    "    return text\n",
    "\n",
    "def removeNewlines(text):\n",
    "    text = text.replace('\\n', ' ')\n",
    "    return text\n",
    "\n",
    "def removeShortWords(text):\n",
    "    return ' '.join([word for word in text.split() if len(word) > 3])\n",
    "\n",
    "def removeLongWords(text):\n",
    "    return ' '.join([word for word in text.split() if len(word) < 6])\n",
    "\n",
    "def removeAnWords(text):\n",
    "    return ' '.join([word for word in text.split() if 'an' not in word])"
   ]
  },
  {
   "cell_type": "code",
   "execution_count": 40,
   "id": "4e6e3111",
   "metadata": {},
   "outputs": [
    {
     "name": "stdout",
     "output_type": "stream",
     "text": [
      "beautiful is better ugly explicit is better implicit simple is better complex complex is better complicated flat is better nested sparse is better dense readability counts special cases aren't special enough to break the rules although practicality beats purity errors should never pass silently unless explicitly silenced in the face of ambiguity refuse the temptation to guess there should be one preferably only one obvious way to do it although that way may not be obvious at first unless you're dutch now is better never although never is often better right now if the implementation is hard to explain it's a bad idea if the implementation is easy to explain it may be a good idea namespaces are one honking great idea let's do more of those!\n"
     ]
    }
   ],
   "source": [
    "processingFunctions = [lowercase, removePunctuation, removeNewlines, removeAnWords]\n",
    "\n",
    "for func in processingFunctions:\n",
    "    text = func(text)\n",
    "\n",
    "print(text)"
   ]
  },
  {
   "cell_type": "markdown",
   "id": "2639b4fa",
   "metadata": {},
   "source": [
    "### Lambda functions"
   ]
  },
  {
   "cell_type": "code",
   "execution_count": 41,
   "id": "9d3bbf30",
   "metadata": {},
   "outputs": [
    {
     "data": {
      "text/plain": [
       "5"
      ]
     },
     "execution_count": 41,
     "metadata": {},
     "output_type": "execute_result"
    }
   ],
   "source": [
    "2 + 3"
   ]
  },
  {
   "cell_type": "code",
   "execution_count": 42,
   "id": "3867835f",
   "metadata": {},
   "outputs": [
    {
     "data": {
      "text/plain": [
       "8"
      ]
     },
     "execution_count": 42,
     "metadata": {},
     "output_type": "execute_result"
    }
   ],
   "source": [
    "(lambda x: x + 3)(5)"
   ]
  },
  {
   "cell_type": "markdown",
   "id": "bd0b1a62",
   "metadata": {},
   "source": [
    "Normal list sorts natively with no errors"
   ]
  },
  {
   "cell_type": "code",
   "execution_count": 43,
   "id": "0cb05720",
   "metadata": {},
   "outputs": [
    {
     "data": {
      "text/plain": [
       "[2, 3, 4, 5]"
      ]
     },
     "execution_count": 43,
     "metadata": {},
     "output_type": "execute_result"
    }
   ],
   "source": [
    "myList = [5,4,3,2]\n",
    "sorted(myList)"
   ]
  },
  {
   "cell_type": "code",
   "execution_count": 47,
   "id": "2a87f878",
   "metadata": {},
   "outputs": [],
   "source": [
    "myList2 = [{'day': 7},{'day': 9},{'day': 56},{'day': 22},{'day': 2},{'day': 101},{'day': 37}]"
   ]
  },
  {
   "cell_type": "markdown",
   "id": "f00b9e77",
   "metadata": {},
   "source": [
    "Trying to sort a list of dictionaries causes an error"
   ]
  },
  {
   "cell_type": "code",
   "execution_count": 48,
   "id": "552221f3",
   "metadata": {},
   "outputs": [
    {
     "ename": "TypeError",
     "evalue": "'<' not supported between instances of 'dict' and 'dict'",
     "output_type": "error",
     "traceback": [
      "\u001b[1;31m---------------------------------------------------------------------------\u001b[0m",
      "\u001b[1;31mTypeError\u001b[0m                                 Traceback (most recent call last)",
      "Cell \u001b[1;32mIn[48], line 1\u001b[0m\n\u001b[1;32m----> 1\u001b[0m \u001b[38;5;28msorted\u001b[39m(myList2)\n",
      "\u001b[1;31mTypeError\u001b[0m: '<' not supported between instances of 'dict' and 'dict'"
     ]
    }
   ],
   "source": [
    "sorted(myList2)"
   ]
  },
  {
   "cell_type": "markdown",
   "id": "bf6e5fc1",
   "metadata": {},
   "source": [
    "Solve for the error by using a lambda function to sort on a key"
   ]
  },
  {
   "cell_type": "code",
   "execution_count": 49,
   "id": "ef3d6a92",
   "metadata": {},
   "outputs": [
    {
     "data": {
      "text/plain": [
       "[{'day': 2},\n",
       " {'day': 7},\n",
       " {'day': 9},\n",
       " {'day': 22},\n",
       " {'day': 37},\n",
       " {'day': 56},\n",
       " {'day': 101}]"
      ]
     },
     "execution_count": 49,
     "metadata": {},
     "output_type": "execute_result"
    }
   ],
   "source": [
    "sorted(myList2, key=lambda x:x['day'])"
   ]
  },
  {
   "cell_type": "code",
   "execution_count": 58,
   "id": "d411292b",
   "metadata": {},
   "outputs": [],
   "source": [
    "myList3 = [{'week': 1, 'day': 2, 'name': 'Monday', 'weekdaynum': 2},{'week': 2, 'day': 8, 'name': 'Sunday', 'weekdaynum': 1},\n",
    "           {'week': 2, 'day': 13, 'name': 'Friday', 'weekdaynum': 6},{'week': 2, 'day': 11, 'name': 'Wednesday', 'weekdaynum': 4},\n",
    "           {'week': 1, 'day': 5, 'name': 'Thursday', 'weekdaynum': 5},{'week': 3, 'day': 17, 'name': 'Tuesday', 'weekdaynum': 3},\n",
    "           {'week': 2, 'day': 14, 'name': 'Saturday', 'weekdaynum': 7}]"
   ]
  },
  {
   "cell_type": "code",
   "execution_count": 59,
   "id": "ae3909d1",
   "metadata": {},
   "outputs": [
    {
     "data": {
      "text/plain": [
       "[{'week': 1, 'day': 2, 'name': 'Monday', 'weekdaynum': 2},\n",
       " {'week': 1, 'day': 5, 'name': 'Thursday', 'weekdaynum': 5},\n",
       " {'week': 2, 'day': 8, 'name': 'Sunday', 'weekdaynum': 1},\n",
       " {'week': 2, 'day': 11, 'name': 'Wednesday', 'weekdaynum': 4},\n",
       " {'week': 2, 'day': 13, 'name': 'Friday', 'weekdaynum': 6},\n",
       " {'week': 2, 'day': 14, 'name': 'Saturday', 'weekdaynum': 7},\n",
       " {'week': 3, 'day': 17, 'name': 'Tuesday', 'weekdaynum': 3}]"
      ]
     },
     "execution_count": 59,
     "metadata": {},
     "output_type": "execute_result"
    }
   ],
   "source": [
    "sorted(myList3, key = lambda x:(x['week'],x['weekdaynum']))"
   ]
  }
 ],
 "metadata": {
  "kernelspec": {
   "display_name": "Python 3 (ipykernel)",
   "language": "python",
   "name": "python3"
  },
  "language_info": {
   "codemirror_mode": {
    "name": "ipython",
    "version": 3
   },
   "file_extension": ".py",
   "mimetype": "text/x-python",
   "name": "python",
   "nbconvert_exporter": "python",
   "pygments_lexer": "ipython3",
   "version": "3.12.2"
  }
 },
 "nbformat": 4,
 "nbformat_minor": 5
}
