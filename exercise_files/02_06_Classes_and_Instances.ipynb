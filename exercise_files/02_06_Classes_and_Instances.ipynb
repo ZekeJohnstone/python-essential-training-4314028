{
 "cells": [
  {
   "cell_type": "markdown",
   "id": "7e7cecd6",
   "metadata": {},
   "source": [
    "## Classes"
   ]
  },
  {
   "cell_type": "code",
   "execution_count": 11,
   "id": "d5cde69b",
   "metadata": {},
   "outputs": [],
   "source": [
    "class Dog:\n",
    "    def __init__(self, name):\n",
    "        self.name = name\n",
    "        self.legs = 4\n",
    "\n",
    "    def speak(self):\n",
    "        if self.name == 'Rover':\n",
    "            print(self.name + \" says: huhh, huhh, Dee Dee Dee, hrrr\")\n",
    "        else:\n",
    "            print(self.name + \" says: You went full retard. Never go full retard!\")"
   ]
  },
  {
   "cell_type": "code",
   "execution_count": 13,
   "id": "5b3dde35",
   "metadata": {},
   "outputs": [],
   "source": [
    "my_dog = Dog('Rover')\n",
    "another_dog = Dog('Blu')"
   ]
  },
  {
   "cell_type": "code",
   "execution_count": 14,
   "id": "ceed1af6",
   "metadata": {},
   "outputs": [
    {
     "name": "stdout",
     "output_type": "stream",
     "text": [
      "Rover says: huhh, huhh, Dee Dee Dee, hrrr\n"
     ]
    }
   ],
   "source": [
    "my_dog.speak()"
   ]
  },
  {
   "cell_type": "code",
   "execution_count": 15,
   "id": "b85ea67b",
   "metadata": {},
   "outputs": [
    {
     "name": "stdout",
     "output_type": "stream",
     "text": [
      "Blu says: You went full retard. Never go full retard!\n"
     ]
    }
   ],
   "source": [
    "another_dog.speak()"
   ]
  },
  {
   "cell_type": "code",
   "execution_count": null,
   "id": "5d1838eb",
   "metadata": {},
   "outputs": [],
   "source": []
  }
 ],
 "metadata": {
  "kernelspec": {
   "display_name": "Python 3 (ipykernel)",
   "language": "python",
   "name": "python3"
  },
  "language_info": {
   "codemirror_mode": {
    "name": "ipython",
    "version": 3
   },
   "file_extension": ".py",
   "mimetype": "text/x-python",
   "name": "python",
   "nbconvert_exporter": "python",
   "pygments_lexer": "ipython3",
   "version": "3.12.1"
  }
 },
 "nbformat": 4,
 "nbformat_minor": 5
}
