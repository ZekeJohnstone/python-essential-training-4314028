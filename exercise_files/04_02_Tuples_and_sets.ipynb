{
 "cells": [
  {
   "cell_type": "markdown",
   "id": "9ace3b36",
   "metadata": {},
   "source": [
    "## Sets"
   ]
  },
  {
   "cell_type": "code",
   "execution_count": 1,
   "id": "d2f6b728",
   "metadata": {},
   "outputs": [
    {
     "data": {
      "text/plain": [
       "{'a', 'b', 'c'}"
      ]
     },
     "execution_count": 1,
     "metadata": {},
     "output_type": "execute_result"
    }
   ],
   "source": [
    "mySet = {'a', 'b', 'c'}\n",
    "mySet\n"
   ]
  },
  {
   "cell_type": "code",
   "execution_count": 20,
   "id": "8aefd2cd",
   "metadata": {},
   "outputs": [],
   "source": [
    "mySet = set(('a', 'b', 'c'))"
   ]
  },
  {
   "cell_type": "code",
   "execution_count": 21,
   "id": "e101dd56",
   "metadata": {},
   "outputs": [
    {
     "data": {
      "text/plain": [
       "{'a', 'b', 'c'}"
      ]
     },
     "execution_count": 21,
     "metadata": {},
     "output_type": "execute_result"
    }
   ],
   "source": [
    "mySet"
   ]
  },
  {
   "cell_type": "code",
   "execution_count": 13,
   "id": "69200543",
   "metadata": {},
   "outputs": [
    {
     "data": {
      "text/plain": [
       "['off', 'fuck', 'you', 'can']"
      ]
     },
     "execution_count": 13,
     "metadata": {},
     "output_type": "execute_result"
    }
   ],
   "source": [
    "myOtherList = list(set(myOtherList))\n",
    "myOtherList"
   ]
  },
  {
   "cell_type": "code",
   "execution_count": 24,
   "id": "d72cab4d",
   "metadata": {},
   "outputs": [
    {
     "data": {
      "text/plain": [
       "{'can', 'fuck', 'off', 'you'}"
      ]
     },
     "execution_count": 24,
     "metadata": {},
     "output_type": "execute_result"
    }
   ],
   "source": [
    "mySet = set((myOtherList))\n",
    "#mySet[0]\n",
    "mySet"
   ]
  },
  {
   "cell_type": "code",
   "execution_count": 25,
   "id": "a806d16a",
   "metadata": {},
   "outputs": [
    {
     "name": "stderr",
     "output_type": "stream",
     "text": [
      "<>:2: SyntaxWarning: 'int' object is not subscriptable; perhaps you missed a comma?\n",
      "<>:2: SyntaxWarning: 'int' object is not subscriptable; perhaps you missed a comma?\n",
      "C:\\Users\\Zeke_\\AppData\\Local\\Temp\\ipykernel_33232\\2203923273.py:2: SyntaxWarning: 'int' object is not subscriptable; perhaps you missed a comma?\n",
      "  1[0]\n"
     ]
    },
    {
     "ename": "TypeError",
     "evalue": "'int' object is not subscriptable",
     "output_type": "error",
     "traceback": [
      "\u001b[1;31m---------------------------------------------------------------------------\u001b[0m",
      "\u001b[1;31mTypeError\u001b[0m                                 Traceback (most recent call last)",
      "Cell \u001b[1;32mIn[25], line 2\u001b[0m\n\u001b[0;32m      1\u001b[0m number \u001b[38;5;241m=\u001b[39m \u001b[38;5;241m1\u001b[39m\n\u001b[1;32m----> 2\u001b[0m \u001b[38;5;241;43m1\u001b[39;49m\u001b[43m[\u001b[49m\u001b[38;5;241;43m0\u001b[39;49m\u001b[43m]\u001b[49m\n",
      "\u001b[1;31mTypeError\u001b[0m: 'int' object is not subscriptable"
     ]
    }
   ],
   "source": [
    "number = 1\n",
    "1[0]"
   ]
  },
  {
   "cell_type": "code",
   "execution_count": 26,
   "id": "80dc46d0",
   "metadata": {},
   "outputs": [
    {
     "data": {
      "text/plain": [
       "{'can', 'd', 'fuck', 'off', 'you'}"
      ]
     },
     "execution_count": 26,
     "metadata": {},
     "output_type": "execute_result"
    }
   ],
   "source": [
    "mySet.add('d')\n",
    "mySet"
   ]
  },
  {
   "cell_type": "code",
   "execution_count": 27,
   "id": "2a98889e",
   "metadata": {},
   "outputs": [
    {
     "data": {
      "text/plain": [
       "True"
      ]
     },
     "execution_count": 27,
     "metadata": {},
     "output_type": "execute_result"
    }
   ],
   "source": [
    "'fuck' in mySet"
   ]
  },
  {
   "cell_type": "code",
   "execution_count": 28,
   "id": "a921cee9",
   "metadata": {},
   "outputs": [
    {
     "data": {
      "text/plain": [
       "False"
      ]
     },
     "execution_count": 28,
     "metadata": {},
     "output_type": "execute_result"
    }
   ],
   "source": [
    "'z' in mySet"
   ]
  },
  {
   "cell_type": "code",
   "execution_count": 29,
   "id": "ab1b620c",
   "metadata": {},
   "outputs": [
    {
     "data": {
      "text/plain": [
       "5"
      ]
     },
     "execution_count": 29,
     "metadata": {},
     "output_type": "execute_result"
    }
   ],
   "source": [
    "len(mySet)"
   ]
  },
  {
   "cell_type": "code",
   "execution_count": 30,
   "id": "e6e31f21",
   "metadata": {},
   "outputs": [
    {
     "name": "stdout",
     "output_type": "stream",
     "text": [
      "off\n",
      "fuck\n",
      "can\n",
      "d\n",
      "you\n"
     ]
    }
   ],
   "source": [
    "while len(mySet):\n",
    "    print(mySet.pop())"
   ]
  },
  {
   "cell_type": "code",
   "execution_count": 31,
   "id": "feb2c369",
   "metadata": {},
   "outputs": [
    {
     "data": {
      "text/plain": [
       "set()"
      ]
     },
     "execution_count": 31,
     "metadata": {},
     "output_type": "execute_result"
    }
   ],
   "source": [
    "mySet"
   ]
  },
  {
   "cell_type": "code",
   "execution_count": 32,
   "id": "f46ecc23",
   "metadata": {},
   "outputs": [],
   "source": [
    "mySet = {'a', 'b', 'c'}"
   ]
  },
  {
   "cell_type": "code",
   "execution_count": 33,
   "id": "db7970a1",
   "metadata": {},
   "outputs": [],
   "source": [
    "mySet.discard('a')"
   ]
  },
  {
   "cell_type": "code",
   "execution_count": 34,
   "id": "8831c30e",
   "metadata": {},
   "outputs": [
    {
     "data": {
      "text/plain": [
       "{'b', 'c'}"
      ]
     },
     "execution_count": 34,
     "metadata": {},
     "output_type": "execute_result"
    }
   ],
   "source": [
    "mySet"
   ]
  },
  {
   "cell_type": "markdown",
   "id": "f39e6aee",
   "metadata": {},
   "source": [
    "## Tuples"
   ]
  },
  {
   "cell_type": "code",
   "execution_count": 35,
   "id": "98151b6a",
   "metadata": {},
   "outputs": [
    {
     "data": {
      "text/plain": [
       "('a', 'b', 'c')"
      ]
     },
     "execution_count": 35,
     "metadata": {},
     "output_type": "execute_result"
    }
   ],
   "source": [
    "myTuple = ('a', 'b', 'c')\n",
    "myTuple"
   ]
  },
  {
   "cell_type": "code",
   "execution_count": 36,
   "id": "2841cbc2",
   "metadata": {},
   "outputs": [
    {
     "data": {
      "text/plain": [
       "'a'"
      ]
     },
     "execution_count": 36,
     "metadata": {},
     "output_type": "execute_result"
    }
   ],
   "source": [
    "myTuple[0]"
   ]
  },
  {
   "cell_type": "code",
   "execution_count": 37,
   "id": "42b2f324",
   "metadata": {},
   "outputs": [
    {
     "ename": "TypeError",
     "evalue": "'tuple' object does not support item assignment",
     "output_type": "error",
     "traceback": [
      "\u001b[1;31m---------------------------------------------------------------------------\u001b[0m",
      "\u001b[1;31mTypeError\u001b[0m                                 Traceback (most recent call last)",
      "Cell \u001b[1;32mIn[37], line 1\u001b[0m\n\u001b[1;32m----> 1\u001b[0m \u001b[43mmyTuple\u001b[49m\u001b[43m[\u001b[49m\u001b[38;5;241;43m0\u001b[39;49m\u001b[43m]\u001b[49m \u001b[38;5;241m=\u001b[39m \u001b[38;5;124m'\u001b[39m\u001b[38;5;124md\u001b[39m\u001b[38;5;124m'\u001b[39m\n",
      "\u001b[1;31mTypeError\u001b[0m: 'tuple' object does not support item assignment"
     ]
    }
   ],
   "source": [
    "myTuple[0] = 'd'"
   ]
  },
  {
   "cell_type": "code",
   "execution_count": 38,
   "id": "1f64ecd4",
   "metadata": {},
   "outputs": [
    {
     "data": {
      "text/plain": [
       "tuple"
      ]
     },
     "execution_count": 38,
     "metadata": {},
     "output_type": "execute_result"
    }
   ],
   "source": [
    "def returnsMultipleValues():\n",
    "    return 1,2,3\n",
    "\n",
    "type(returnsMultipleValues())"
   ]
  },
  {
   "cell_type": "code",
   "execution_count": 39,
   "id": "ecca91c0",
   "metadata": {},
   "outputs": [],
   "source": [
    "myTuple = (1,2,3)"
   ]
  },
  {
   "cell_type": "code",
   "execution_count": 40,
   "id": "08d209bb",
   "metadata": {},
   "outputs": [
    {
     "data": {
      "text/plain": [
       "tuple"
      ]
     },
     "execution_count": 40,
     "metadata": {},
     "output_type": "execute_result"
    }
   ],
   "source": [
    "type(myTuple)"
   ]
  },
  {
   "cell_type": "code",
   "execution_count": 41,
   "id": "0c5c57a0",
   "metadata": {},
   "outputs": [],
   "source": [
    "a, b, c = returnsMultipleValues()"
   ]
  },
  {
   "cell_type": "code",
   "execution_count": 42,
   "id": "d8f3b2cf",
   "metadata": {},
   "outputs": [
    {
     "name": "stdout",
     "output_type": "stream",
     "text": [
      "1\n",
      "2\n",
      "3\n"
     ]
    }
   ],
   "source": [
    "print(a)\n",
    "print(b)\n",
    "print(c)"
   ]
  },
  {
   "cell_type": "code",
   "execution_count": null,
   "id": "de8a9af3",
   "metadata": {},
   "outputs": [],
   "source": []
  }
 ],
 "metadata": {
  "kernelspec": {
   "display_name": "Python 3 (ipykernel)",
   "language": "python",
   "name": "python3"
  },
  "language_info": {
   "codemirror_mode": {
    "name": "ipython",
    "version": 3
   },
   "file_extension": ".py",
   "mimetype": "text/x-python",
   "name": "python",
   "nbconvert_exporter": "python",
   "pygments_lexer": "ipython3",
   "version": "3.12.1"
  }
 },
 "nbformat": 4,
 "nbformat_minor": 5
}
